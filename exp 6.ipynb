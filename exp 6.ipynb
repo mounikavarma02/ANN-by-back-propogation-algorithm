{
  "nbformat": 4,
  "nbformat_minor": 0,
  "metadata": {
    "colab": {
      "name": "Untitled22.ipynb",
      "provenance": []
    },
    "kernelspec": {
      "name": "python3",
      "display_name": "Python 3"
    },
    "language_info": {
      "name": "python"
    }
  },
  "cells": [
    {
      "cell_type": "code",
      "execution_count": 1,
      "metadata": {
        "colab": {
          "base_uri": "https://localhost:8080/"
        },
        "id": "sHh3wJzeu6Uy",
        "outputId": "e3805b85-b5b3-4648-e22f-ac073cf055ec"
      },
      "outputs": [
        {
          "output_type": "stream",
          "name": "stdout",
          "text": [
            "Input:\n",
            "[[0.66666667 1.        ]\n",
            " [0.33333333 0.55555556]\n",
            " [1.         0.66666667]]\n",
            "Actual Output:\n",
            "[[0.92]\n",
            " [0.86]\n",
            " [0.89]]\n",
            "Predicted Output:\n",
            "[[0.75947941]\n",
            " [0.74376953]\n",
            " [0.75837003]]\n"
          ]
        }
      ],
      "source": [
        "import numpy as np\n",
        "X=np.array(([2,9],[1,5],[3,6]),dtype=float)\n",
        "y=np.array(([92],[86],[89]),dtype=float)\n",
        "X=X/np.amax(X,axis=0)\n",
        "y=y/100\n",
        "\n",
        "def sigmoid(X):\n",
        "    return 1/(1+np.exp(-X))\n",
        "def derivatives_sigmoid(x):\n",
        "    return x*(1-x)\n",
        "\n",
        "epoch=7000\n",
        "lr=0.1\n",
        "inputlayer_neurons=2 \n",
        "hiddenlayer_neurons=3 \n",
        "output_neurons=1 \n",
        "\n",
        "wh=np.random.uniform(size=(inputlayer_neurons,hiddenlayer_neurons))\n",
        "bh=np.random.uniform(size=(1,hiddenlayer_neurons))\n",
        "wout=np.random.uniform(size=(hiddenlayer_neurons,output_neurons))\n",
        "bout=np.random.uniform(size=(1,output_neurons))\n",
        "\n",
        "\n",
        "for i in range(epoch):\n",
        "\n",
        "    hinp1=np.dot(X,wh)\n",
        "hinp=hinp1+bh\n",
        "hlayer_act=sigmoid(hinp)\n",
        "outinp1=np.dot(hlayer_act,wout)\n",
        "outinp=outinp1+bout\n",
        "output=sigmoid(outinp)\n",
        "\n",
        "\n",
        "EO=y-output\n",
        "outgrad=derivatives_sigmoid(output)\n",
        "d_output=EO*outgrad\n",
        "EH=d_output.dot(wout.T)\n",
        "hiddengrad=derivatives_sigmoid(hlayer_act)\n",
        "d_hiddenlayer=EH*hiddengrad\n",
        "wout+=hlayer_act.T.dot(d_output)*lr\n",
        "wh+=X.T.dot(d_hiddenlayer)*lr\n",
        "print(\"Input:\\n\"+str(X))\n",
        "print(\"Actual Output:\\n\"+str(y))\n",
        "print(\"Predicted Output:\\n\"+str(output))\n"
      ]
    }
  ]
}